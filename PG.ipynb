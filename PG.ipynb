{
  "nbformat": 4,
  "nbformat_minor": 0,
  "metadata": {
    "colab": {
      "name": "PG.ipynb",
      "provenance": [],
      "collapsed_sections": []
    },
    "kernelspec": {
      "name": "python3",
      "display_name": "Python 3"
    }
  },
  "cells": [
    {
      "cell_type": "code",
      "metadata": {
        "id": "xu42Xrxa55E0",
        "colab_type": "code",
        "outputId": "4efc3c87-ce69-411f-8d47-79010a056719",
        "colab": {
          "base_uri": "https://localhost:8080/",
          "height": 136
        }
      },
      "source": [
        "!pip install gym"
      ],
      "execution_count": 0,
      "outputs": [
        {
          "output_type": "stream",
          "text": [
            "Requirement already satisfied: gym in /usr/local/lib/python3.6/dist-packages (0.17.1)\n",
            "Requirement already satisfied: pyglet<=1.5.0,>=1.4.0 in /usr/local/lib/python3.6/dist-packages (from gym) (1.5.0)\n",
            "Requirement already satisfied: numpy>=1.10.4 in /usr/local/lib/python3.6/dist-packages (from gym) (1.18.2)\n",
            "Requirement already satisfied: six in /usr/local/lib/python3.6/dist-packages (from gym) (1.12.0)\n",
            "Requirement already satisfied: scipy in /usr/local/lib/python3.6/dist-packages (from gym) (1.4.1)\n",
            "Requirement already satisfied: cloudpickle<1.4.0,>=1.2.0 in /usr/local/lib/python3.6/dist-packages (from gym) (1.3.0)\n",
            "Requirement already satisfied: future in /usr/local/lib/python3.6/dist-packages (from pyglet<=1.5.0,>=1.4.0->gym) (0.16.0)\n"
          ],
          "name": "stdout"
        }
      ]
    },
    {
      "cell_type": "code",
      "metadata": {
        "id": "L9tdtlV46F9M",
        "colab_type": "code",
        "colab": {}
      },
      "source": [
        "!apt-get install -y xvfb python-opengl > /dev/null 2>&1\n",
        "!pip install gym pyvirtualdisplay > /dev/null 2>&1"
      ],
      "execution_count": 0,
      "outputs": []
    },
    {
      "cell_type": "code",
      "metadata": {
        "id": "5Uf3K-hj6I1q",
        "colab_type": "code",
        "colab": {}
      },
      "source": [
        "from pyvirtualdisplay import Display\n",
        "from IPython import display as ipythondisplay\n",
        "import torch\n",
        "import torch.nn as nn\n",
        "import torch.nn.functional as F\n",
        "import torch.optim as optim\n",
        "import numpy as np\n",
        "import matplotlib.pyplot as plt\n",
        "import os\n",
        "import gym\n",
        "import random\n",
        "import copy\n",
        "\n"
      ],
      "execution_count": 0,
      "outputs": []
    },
    {
      "cell_type": "code",
      "metadata": {
        "id": "99CVnEKa6Kfs",
        "colab_type": "code",
        "outputId": "d94e4228-e7e1-44a5-d8a7-21c2ce325ded",
        "colab": {
          "base_uri": "https://localhost:8080/",
          "height": 71
        }
      },
      "source": [
        "display = Display(visible=0, size=(1400, 900))\n",
        "display.start()"
      ],
      "execution_count": 0,
      "outputs": [
        {
          "output_type": "stream",
          "text": [
            "xdpyinfo was not found, X start can not be checked! Please install xdpyinfo!\n"
          ],
          "name": "stderr"
        },
        {
          "output_type": "execute_result",
          "data": {
            "text/plain": [
              "<Display cmd_param=['Xvfb', '-br', '-nolisten', 'tcp', '-screen', '0', '1400x900x24', ':1003'] cmd=['Xvfb', '-br', '-nolisten', 'tcp', '-screen', '0', '1400x900x24', ':1003'] oserror=None return_code=None stdout=\"None\" stderr=\"None\" timeout_happened=False>"
            ]
          },
          "metadata": {
            "tags": []
          },
          "execution_count": 37
        }
      ]
    },
    {
      "cell_type": "markdown",
      "metadata": {
        "id": "sUxLX3HRVJ04",
        "colab_type": "text"
      },
      "source": [
        "# PART(A)\n",
        "\n",
        "## NOTE CAN LOAD ONLY ONE ENVIRONMENT AT A TIME"
      ]
    },
    {
      "cell_type": "markdown",
      "metadata": {
        "id": "8EkEXM57PXMi",
        "colab_type": "text"
      },
      "source": [
        "## Cartpole Env"
      ]
    },
    {
      "cell_type": "code",
      "metadata": {
        "id": "cQzcYTYS6LTm",
        "colab_type": "code",
        "outputId": "64e1e94a-9aed-4002-bdb3-131e84c89ab8",
        "colab": {
          "base_uri": "https://localhost:8080/",
          "height": 51
        }
      },
      "source": [
        "cartpole_env = gym.make(\"CartPole-v0\")\n",
        "obs = cartpole_env.reset()\n",
        "#plt.imshow(env.render('rgb_array'))\n",
        "print(\"Observation space:\", cartpole_env.observation_space)\n",
        "print(\"Action space:\", cartpole_env.action_space)"
      ],
      "execution_count": 0,
      "outputs": [
        {
          "output_type": "stream",
          "text": [
            "Observation space: Box(4,)\n",
            "Action space: Discrete(2)\n"
          ],
          "name": "stdout"
        }
      ]
    },
    {
      "cell_type": "code",
      "metadata": {
        "id": "-x_Xt_0cPDFy",
        "colab_type": "code",
        "colab": {}
      },
      "source": [
        "curr_state = cartpole_env.reste()\n",
        "isDone = False\n",
        "while not isDone:\n",
        "    nexts,rew,isDone,_ = cartpole_env.step(env.action_space.sample())\n",
        "    print(\"state:\",nexts,\"reward:\",rew)\n",
        "    curr_state = nexts "
      ],
      "execution_count": 0,
      "outputs": []
    },
    {
      "cell_type": "markdown",
      "metadata": {
        "id": "x5qbWIQflXYV",
        "colab_type": "text"
      },
      "source": [
        "* cartpole env has two actions, the obseravtion space has 4 paramters cart position, cart velocity, pole angle and pole velocity. Reward is 1 for every step taken and lasts till max of 475 steps"
      ]
    },
    {
      "cell_type": "markdown",
      "metadata": {
        "id": "WmxeiQ3lPZjl",
        "colab_type": "text"
      },
      "source": [
        "## LunarLander env"
      ]
    },
    {
      "cell_type": "code",
      "metadata": {
        "id": "N5N8uQF35xaS",
        "colab_type": "code",
        "outputId": "bfcbd766-430d-447b-992d-34b47f220401",
        "colab": {
          "base_uri": "https://localhost:8080/",
          "height": 34
        }
      },
      "source": [
        "!pip install box2d"
      ],
      "execution_count": 0,
      "outputs": [
        {
          "output_type": "stream",
          "text": [
            "Requirement already satisfied: box2d in /usr/local/lib/python3.6/dist-packages (2.3.10)\n"
          ],
          "name": "stdout"
        }
      ]
    },
    {
      "cell_type": "code",
      "metadata": {
        "id": "qzj7xSvW40iW",
        "colab_type": "code",
        "outputId": "e3da4044-f465-4dde-c431-117ebc32c9be",
        "colab": {
          "base_uri": "https://localhost:8080/",
          "height": 85
        }
      },
      "source": [
        "lunar_env = gym.make(\"LunarLander-v2\")\n",
        "obs = lunar_env.reset()\n",
        "#plt.imshow(env.render('rgb_array'))\n",
        "print(\"Observation space:\", lunar_env.observation_space)\n",
        "print(\"Action space:\", lunar_env.action_space)"
      ],
      "execution_count": 0,
      "outputs": [
        {
          "output_type": "stream",
          "text": [
            "Observation space: Box(8,)\n",
            "Action space: Discrete(4)\n"
          ],
          "name": "stdout"
        },
        {
          "output_type": "stream",
          "text": [
            "/usr/local/lib/python3.6/dist-packages/gym/logger.py:30: UserWarning: \u001b[33mWARN: Box bound precision lowered by casting to float32\u001b[0m\n",
            "  warnings.warn(colorize('%s: %s'%('WARN', msg % args), 'yellow'))\n"
          ],
          "name": "stderr"
        }
      ]
    },
    {
      "cell_type": "code",
      "metadata": {
        "id": "bGAwjpacPdfA",
        "colab_type": "code",
        "colab": {}
      },
      "source": [
        "curr_state = lunar_env.reste()\n",
        "isDone = False\n",
        "while not isDone:\n",
        "    nexts,rew,isDone,_ = lunar_env.step(env.action_space.sample())\n",
        "    print(\"state:\",nexts,\"reward:\",rew)\n",
        "    curr_state = nexts "
      ],
      "execution_count": 0,
      "outputs": []
    },
    {
      "cell_type": "markdown",
      "metadata": {
        "id": "uIUel-nel40L",
        "colab_type": "text"
      },
      "source": [
        "4 actions are possible. Reward is -0.3 for every engine fired, if it crashes -100 and if it lands 100 points, leg ground contact is 10 for each leg"
      ]
    },
    {
      "cell_type": "markdown",
      "metadata": {
        "id": "ulVARXGIVLlJ",
        "colab_type": "text"
      },
      "source": [
        "# PART(B)"
      ]
    },
    {
      "cell_type": "markdown",
      "metadata": {
        "id": "IHwZa2zNPlCh",
        "colab_type": "text"
      },
      "source": [
        "## Policy used by the Policy Gradient Algorithm.\n",
        "* Softmax policy is implemented"
      ]
    },
    {
      "cell_type": "code",
      "metadata": {
        "id": "-o8bxUziPAmx",
        "colab_type": "code",
        "colab": {}
      },
      "source": [
        "class softmaxPolicy:\n",
        "    \"\"\"\n",
        "        Class that represents the policy. The policy used is Softmax policy with theta as the parameter. The state action features are hot\n",
        "        encoded and then flattened. \n",
        "\n",
        "        πθ(s,a)=softmax=  (e^(ϕ(s,a)⊺θ)) / (∑ e^(ϕ(s,a_k)⊺θ))\n",
        "    \"\"\"\n",
        "    def __init__(self,action_size,state_size):\n",
        "        self.action_size = action_size\n",
        "        self.state_size = state_size\n",
        "        self.theta = np.random.random(self.state_size * self.action_size)\n",
        "\n",
        "    def phi_sa(self,state,action):\n",
        "        \"\"\"\n",
        "            Feature representation of the state,action pair. One hot encoding is used\n",
        "        \"\"\"\n",
        "        ## Initilaize zero array \n",
        "        one_hotenc = np.zeros(shape = (self.action_size,self.state_size))\n",
        "        ## set the values at the given action index\n",
        "        one_hotenc[action] = state\n",
        "        ## return the flattened array\n",
        "        return one_hotenc.flatten()\n",
        "\n",
        "    def pi_sa(self,state):\n",
        "        \"\"\"\n",
        "            Return the probability distribution over action space of the envirionment given the state of the environment\n",
        "        \"\"\"\n",
        "        ot = np.zeros(shape=(self.action_size))\n",
        "        ## Getting the probability for each action given the state\n",
        "        for j in range(self.action_size):\n",
        "            ot[j] = np.exp(self.theta.dot(self.phi_sa(state,j)))  ## softmax function is used\n",
        "        \n",
        "        return ot/np.sum(ot)\n",
        "\n",
        "    \n",
        "    def log_gradient(self,state,action):\n",
        "        \"\"\"\n",
        "            Method used to obtain the gradient of log of the softmax function given the state and action\n",
        "            ∇θlog(πθ(s,a))=ϕ(s,a)−Eπθ[ϕ(s,⋅)]  ( source : https://math.stackexchange.com/questions/2013050/log-of-softmax-function-derivative )\n",
        "        \"\"\"\n",
        "        exp = 0\n",
        "        for a in range(self.action_size):\n",
        "            exp+= ( self.phi_sa(state,a)* self.pi_sa(state)[a])\n",
        "        return self.phi_sa(state,action) - exp\n",
        "    \n",
        "\n"
      ],
      "execution_count": 0,
      "outputs": []
    },
    {
      "cell_type": "markdown",
      "metadata": {
        "id": "vAqICLoHPsUm",
        "colab_type": "text"
      },
      "source": [
        "## Policy Gradient algorithm"
      ]
    },
    {
      "cell_type": "code",
      "metadata": {
        "id": "cecoWJyqNs-_",
        "colab_type": "code",
        "colab": {}
      },
      "source": [
        "class PG:\n",
        "    \"\"\"\n",
        "        This class creates a learning agent that uses Policy Gradient method to learn the given environment. The policy that is used to get the\n",
        "        probability distribution over the action space given the state of the environment is softmax policy. \n",
        "    \"\"\"\n",
        "    def __init__(self,policy,env,eps,batch_size,lr,gamma,choice,an = False):\n",
        "        \"\"\"\n",
        "            Initialize the learning agent given the passed parameters. \n",
        "        \"\"\"\n",
        "        self.env = env\n",
        "        self.policy = policy    ## Policy used to get the probability distribution\n",
        "        self.N = eps            ## Number of episodes to run the algorithm\n",
        "        self.lr = lr            ## The learning rate used to update the parameters of the policy\n",
        "        self.eps_rew = []       ## To store the reward obtained in a particular episode\n",
        "        self.gamma = gamma\n",
        "        self.eps_rec = []\n",
        "        self.choice = choice    ## Used to choose among vanilla, reward-to-go and Advantage normalization\n",
        "        self.K = batch_size     ## Batch size represents the number of trajectories used to get the gradients.\n",
        "        self.advantage_normalization = an    ## Wether to perform advantage normalization or not\n",
        "\n",
        "    def sai_t(self,time_step,trajectories,choice):\n",
        "        \"\"\"\n",
        "            Method to get the value of Ψ(t). Either implements reward-to-go or vanilla or advantage normalization\n",
        "        \"\"\"\n",
        "        ## Vanilla\n",
        "        if choice ==0:\n",
        "            return np.sum([ (self.gamma **t) * r[2] for t,r in enumerate(trajectories)])\n",
        "        ## Reward-to-go\n",
        "        elif choice == 1:\n",
        "            if time_step < len(trajectories):\n",
        "                return np.sum([ (self.gamma ** (time_step + t)) * r[2] for t,r in enumerate(trajectories[time_step:] ) ])\n",
        "            else:\n",
        "                return 0\n",
        "        ## Advantage Normalization\n",
        "        else:\n",
        "            return sai_t(self,time_step,trajectories,1) - self.baseline(time_step)\n",
        "    \n",
        "    def baseline(self,trajectories,gradients):\n",
        "        \"\"\"\n",
        "            Implements the baseline function\n",
        "        \"\"\"\n",
        "        ## baseline estimate function\n",
        "        baseline_t = []\n",
        "        x =[len(tj) for tj in trajectories]\n",
        "\n",
        "        for ts in range(np.max(x)):\n",
        "            tot = 0\n",
        "            grad_tot = 0\n",
        "            for trajs,grads in zip(trajectories,gradients):\n",
        "                if len(grads) > ts:\n",
        "                    tot+=(self.sai_t(ts,trajs,1) * (grads[ts] ** 2) )\n",
        "                    grad_tot += (grads[ts] **2)\n",
        "            baseline_t.append(tot/grad_tot)\n",
        "        return baseline_t\n",
        "    \n",
        "    def train(self):\n",
        "        \"\"\"\n",
        "            Method to train the learning agent using Policy gradient algorithm\n",
        "        \"\"\"\n",
        "        tot_score = 0\n",
        "        ## Learning of several episodes\n",
        "        for eps in range(self.N):\n",
        "            tot_sum = 0 ## stores the total sum of the gradients for all self.E trajectories\n",
        "            tot_score = 0\n",
        "            traj = []     ## stores k trajectories\n",
        "            gradj = []    ## stores gradients for each time step of each trajectory\n",
        "            scorej = []   ## stores the total score in each trajectory\n",
        "\n",
        "            ## Collecting K trajectories using current policy with theta parameters\n",
        "            for curr_traj in range(self.K):\n",
        "                curr_state = self.env.reset()\n",
        "                trajectories = []\n",
        "                grads = []\n",
        "                isDone = False\n",
        "                score = 0\n",
        "                # Create the trajectory till the final state is reached\n",
        "                while not isDone:\n",
        "                    pi_sa = self.policy.pi_sa(curr_state)\n",
        "                    action = np.random.choice(self.env.action_space.n,p = pi_sa)\n",
        "                    next_state,reward,isDone,_ = self.env.step(action)\n",
        "                    trajectories.append((curr_state,action,reward))\n",
        "                    grads.append(self.policy.log_gradient(curr_state,action))  ## Calculating gradient at each time step of the current episode\n",
        "                    curr_state = next_state\n",
        "                    score+=reward\n",
        "                ## storing the trajectory, gradient and score\n",
        "                traj.append(trajectories)\n",
        "                gradj.append(grads)\n",
        "                scorej.append(score)\n",
        "\n",
        "            ## For computing baseline used when advantage nomralization is used\n",
        "            if self.advantage_normalization == True:\n",
        "                ##computing baseline:\n",
        "                baseline_t = self.baseline(traj,gradj)\n",
        "            ## Computing the expectation over K trajectories\n",
        "            tot_sum = 0    \n",
        "            for trajectories,grads in zip(traj,gradj):\n",
        "                inner_sum = 0\n",
        "                ## Computing the summation of  ( product of (log_gradient and the Ψ(t) ) )\n",
        "                for ts in range(len(trajectories)):\n",
        "                    grad = grads[ts]\n",
        "                    if self.advantage_normalization == True:\n",
        "                        inner_sum += grad * (self.sai_t(ts,trajectories,self.choice) - baseline_t[ts])\n",
        "                    else:\n",
        "                        inner_sum += grad * (self.sai_t(ts,trajectories,self.choice))\n",
        "                tot_sum+=inner_sum\n",
        "\n",
        "            tot_score = np.sum(scorej) / self.K\n",
        "            ## Performing gradient update\n",
        "            self.policy.theta += self.lr * (tot_sum/self.K)\n",
        "            if eps%100 == 0 or eps == self.N - 1:\n",
        "                print(\"eps:\",eps,\"score:\",tot_score)\n",
        "            if eps%25 == 0 or eps == self.N-1:\n",
        "                self.eps_rec.append(eps)\n",
        "                self.eps_rew.append(tot_score)"
      ],
      "execution_count": 0,
      "outputs": []
    },
    {
      "cell_type": "markdown",
      "metadata": {
        "id": "DJ7tE9SPaQqe",
        "colab_type": "text"
      },
      "source": [
        "## For Cartpole"
      ]
    },
    {
      "cell_type": "markdown",
      "metadata": {
        "id": "-wulreu7Pvzo",
        "colab_type": "text"
      },
      "source": [
        "## Study of using vanilla, reward-to-go and advantage normalization \n",
        "### Batch size of 50"
      ]
    },
    {
      "cell_type": "markdown",
      "metadata": {
        "id": "tRUSN3uXfc4V",
        "colab_type": "text"
      },
      "source": [
        "## Using Normal "
      ]
    },
    {
      "cell_type": "code",
      "metadata": {
        "id": "_jyxmrpK0LqU",
        "colab_type": "code",
        "outputId": "f0580255-78bf-45f5-a68c-8c737b724d54",
        "colab": {
          "base_uri": "https://localhost:8080/",
          "height": 306
        }
      },
      "source": [
        "policy = softmaxPolicy(cartpole_env.action_space.n,cartpole_env.observation_space.shape[0])\n",
        "episodes = 1600\n",
        "batch_size = 50\n",
        "learning_rate = 0.00025\n",
        "gamma = 0.99\n",
        "choice = 0 ## to choose between vanilla, reward-to-go, and advantage function\n",
        "pg = PG(policy,cartpole_env,episodes,batch_size,learning_rate,gamma,0)\n",
        "pg.train()"
      ],
      "execution_count": 0,
      "outputs": [
        {
          "output_type": "stream",
          "text": [
            "eps: 0 score: 21.12\n",
            "eps: 100 score: 33.2\n",
            "eps: 200 score: 37.6\n",
            "eps: 300 score: 50.2\n",
            "eps: 400 score: 67.94\n",
            "eps: 500 score: 107.42\n",
            "eps: 600 score: 140.16\n",
            "eps: 700 score: 152.22\n",
            "eps: 800 score: 164.32\n",
            "eps: 900 score: 172.06\n",
            "eps: 1000 score: 166.44\n",
            "eps: 1100 score: 174.32\n",
            "eps: 1200 score: 176.8\n",
            "eps: 1300 score: 183.12\n",
            "eps: 1400 score: 190.54\n",
            "eps: 1500 score: 184.44\n",
            "eps: 1599 score: 190.18\n"
          ],
          "name": "stdout"
        }
      ]
    },
    {
      "cell_type": "code",
      "metadata": {
        "id": "mu6QzY6W9KOV",
        "colab_type": "code",
        "outputId": "ca75df25-0ed6-4f77-d8e6-4b0df5039157",
        "colab": {
          "base_uri": "https://localhost:8080/",
          "height": 265
        }
      },
      "source": [
        "plt.plot(pg.eps_rec,pg.eps_rew)\n",
        "plt.show()"
      ],
      "execution_count": 0,
      "outputs": [
        {
          "output_type": "display_data",
          "data": {
            "image/png": "[encoded data removed]",
            "text/plain": [
              "<Figure size 432x288 with 1 Axes>"
            ]
          },
          "metadata": {
            "tags": [],
            "needs_background": "light"
          }
        }
      ]
    },
    {
      "cell_type": "markdown",
      "metadata": {
        "id": "7O_eJ_Xifhc3",
        "colab_type": "text"
      },
      "source": [
        "## Using reward-to-go function"
      ]
    },
    {
      "cell_type": "code",
      "metadata": {
        "id": "LnKAzvub8cbN",
        "colab_type": "code",
        "outputId": "77050832-4e64-4f7d-ea9a-cb88d902c02c",
        "colab": {
          "base_uri": "https://localhost:8080/",
          "height": 289
        }
      },
      "source": [
        "policy = softmaxPolicy(cartpole_env.action_space.n,cartpole_env.observation_space.shape[0])\n",
        "pg = PG(policy,cartpole_env,1600,50,0.00025,0.99,1)\n",
        "pg.train()"
      ],
      "execution_count": 0,
      "outputs": [
        {
          "output_type": "stream",
          "text": [
            "eps: 0 score: 16.86\n",
            "eps: 100 score: 22.04\n",
            "eps: 200 score: 37.44\n",
            "eps: 300 score: 44.84\n",
            "eps: 400 score: 53.76\n",
            "eps: 500 score: 60.14\n",
            "eps: 600 score: 68.9\n",
            "eps: 700 score: 112.0\n",
            "eps: 800 score: 142.46\n",
            "eps: 900 score: 168.14\n",
            "eps: 1000 score: 179.02\n",
            "eps: 1100 score: 182.82\n",
            "eps: 1200 score: 188.04\n",
            "eps: 1300 score: 184.24\n",
            "eps: 1400 score: 190.78\n",
            "eps: 1499 score: 193.46\n"
          ],
          "name": "stdout"
        }
      ]
    },
    {
      "cell_type": "code",
      "metadata": {
        "id": "NwBJtacW2t5y",
        "colab_type": "code",
        "outputId": "f243cfc3-a0d8-45b3-8048-2a175c770e84",
        "colab": {
          "base_uri": "https://localhost:8080/",
          "height": 267
        }
      },
      "source": [
        "plt.plot(pg.eps_rec,pg.eps_rew)\n",
        "plt.show()"
      ],
      "execution_count": 0,
      "outputs": [
        {
          "output_type": "display_data",
          "data": {
            "image/png": "[encoded data removed]",
            "text/plain": [
              "<Figure size 432x288 with 1 Axes>"
            ]
          },
          "metadata": {
            "tags": [],
            "needs_background": "light"
          }
        }
      ]
    },
    {
      "cell_type": "markdown",
      "metadata": {
        "id": "s4JZM8nDfk-I",
        "colab_type": "text"
      },
      "source": [
        "## Using Advantage Normalization"
      ]
    },
    {
      "cell_type": "code",
      "metadata": {
        "id": "GKv3NQ-H8T4M",
        "colab_type": "code",
        "outputId": "9b9a5869-c0ef-4fa5-8fa1-2c09bb547085",
        "colab": {
          "base_uri": "https://localhost:8080/",
          "height": 289
        }
      },
      "source": [
        "policy = softmaxPolicy(cartpole_env.action_space.n,cartpole_env.observation_space.shape[0])\n",
        "pg = PG(policy,cartpole_env,1600,50,0.00025,0.99,1,True)\n",
        "pg.train()"
      ],
      "execution_count": 0,
      "outputs": [
        {
          "output_type": "stream",
          "text": [
            "eps: 0 score: 35.22\n",
            "eps: 100 score: 47.74\n",
            "eps: 200 score: 74.72\n",
            "eps: 300 score: 108.88\n",
            "eps: 400 score: 119.8\n",
            "eps: 500 score: 153.5\n",
            "eps: 600 score: 177.4\n",
            "eps: 700 score: 180.84\n",
            "eps: 800 score: 181.76\n",
            "eps: 900 score: 183.62\n",
            "eps: 1000 score: 186.84\n",
            "eps: 1100 score: 188.36\n",
            "eps: 1200 score: 186.08\n",
            "eps: 1300 score: 191.72\n",
            "eps: 1400 score: 190.54\n",
            "eps: 1499 score: 195.68\n"
          ],
          "name": "stdout"
        }
      ]
    },
    {
      "cell_type": "code",
      "metadata": {
        "id": "XJIYDVuWYqlV",
        "colab_type": "code",
        "outputId": "c4254100-85ca-47bf-b09d-7b5b54017d72",
        "colab": {
          "base_uri": "https://localhost:8080/",
          "height": 265
        }
      },
      "source": [
        "plt.plot(pg.eps_rec,pg.eps_rew)\n",
        "plt.show()"
      ],
      "execution_count": 0,
      "outputs": [
        {
          "output_type": "display_data",
          "data": {
            "image/png": "[encoded data removed]",
            "text/plain": [
              "<Figure size 432x288 with 1 Axes>"
            ]
          },
          "metadata": {
            "tags": [],
            "needs_background": "light"
          }
        }
      ]
    },
    {
      "cell_type": "markdown",
      "metadata": {
        "id": "T0322j5iRDBU",
        "colab_type": "text"
      },
      "source": [
        "## Observations\n",
        "* For several runs the advantage normalization technique produced scores of greater than 192 or 191. second performing was the reward-to-go technique. and the least was the vanilla technique.\n",
        "\n",
        "* The increase in score for the advantage function technique was greater in initial episodes ( the slope in the firs 200 episodes is more). whereas it was lesser for reward-to-go and vanilla technique.\n",
        "\n",
        "* Also there is less performance drops and gains ( zig-zag pattern) in the advantage function tenchnique. This pattern was significantly higher for the vanilla technique"
      ]
    },
    {
      "cell_type": "markdown",
      "metadata": {
        "id": "A04VMA0EaN4T",
        "colab_type": "text"
      },
      "source": [
        "## For LunarLander"
      ]
    },
    {
      "cell_type": "code",
      "metadata": {
        "id": "MRTppIVpaNOn",
        "colab_type": "code",
        "outputId": "8e0c49b6-4f72-4f07-e06c-6e99e14506a2",
        "colab": {
          "base_uri": "https://localhost:8080/",
          "height": 85
        }
      },
      "source": [
        "policy = softmaxPolicy(lunar_env.action_space.n,lunar_env.observation_space.shape[0])\n",
        "total_episodes = 1500\n",
        "batch_size = 100\n",
        "learning_rate = 0.0025\n",
        "gamma = 0.99\n",
        "choice = 1\n",
        "pg = PG(policy,lunar_env,total_episodes,batch_size,learning_rate,gamma,choice)\n",
        "print(\"Score printed is average over 100 episodes\")\n",
        "pg.train()"
      ],
      "execution_count": 0,
      "outputs": [
        {
          "output_type": "stream",
          "text": [
            "Score printed is average over 100 episodes\n",
            "eps: 0 score: -142.38303268268703\n",
            "eps: 100 score: 1.9736066901453244\n",
            "eps: 200 score: -15.616745808811185\n"
          ],
          "name": "stdout"
        }
      ]
    },
    {
      "cell_type": "markdown",
      "metadata": {
        "id": "xWioWkq1_Alb",
        "colab_type": "text"
      },
      "source": [
        "## Plot not generated since training time is high takes about an hour for 100 episodes"
      ]
    },
    {
      "cell_type": "code",
      "metadata": {
        "id": "jA01gfkw-_f-",
        "colab_type": "code",
        "colab": {}
      },
      "source": [
        "plt.plot(pg.eps_rec,pg.eps_rew)\n",
        "plt.show()"
      ],
      "execution_count": 0,
      "outputs": []
    },
    {
      "cell_type": "code",
      "metadata": {
        "id": "jjYiEWfEu_4T",
        "colab_type": "code",
        "colab": {}
      },
      "source": [
        "np.savetxt('theta.out',pg.policy.theta,delimiter = ',')"
      ],
      "execution_count": 0,
      "outputs": []
    },
    {
      "cell_type": "markdown",
      "metadata": {
        "id": "o6rrU_JKVSXf",
        "colab_type": "text"
      },
      "source": [
        "#PART (C)"
      ]
    },
    {
      "cell_type": "markdown",
      "metadata": {
        "id": "zfB69DVU_KRz",
        "colab_type": "text"
      },
      "source": [
        "### Study of learning curve given varying number of batch_size\n",
        "* Study done on cartpole environment"
      ]
    },
    {
      "cell_type": "markdown",
      "metadata": {
        "id": "QCbPT1GK_c1A",
        "colab_type": "text"
      },
      "source": [
        "#### Batch Size 10"
      ]
    },
    {
      "cell_type": "code",
      "metadata": {
        "id": "yRRW2bXm_Jlv",
        "colab_type": "code",
        "outputId": "7d4aea3f-9d22-4843-db6e-354eb87461dd",
        "colab": {
          "base_uri": "https://localhost:8080/",
          "height": 537
        }
      },
      "source": [
        "policy = softmaxPolicy(cartpole_env.action_space.n,cartpole_env.observation_space.shape[0])\n",
        "pg = PG(policy,cartpole_env,1500,10,0.00025,0.99,1,True)\n",
        "pg.train()\n",
        "plt.plot(pg.eps_rec,pg.eps_rew)\n",
        "plt.show()"
      ],
      "execution_count": 0,
      "outputs": [
        {
          "output_type": "stream",
          "text": [
            "eps: 0 score: 24.5\n",
            "eps: 100 score: 30.8\n",
            "eps: 200 score: 49.4\n",
            "eps: 300 score: 58.4\n",
            "eps: 400 score: 83.5\n",
            "eps: 500 score: 72.3\n",
            "eps: 600 score: 101.0\n",
            "eps: 700 score: 113.3\n",
            "eps: 800 score: 133.0\n",
            "eps: 900 score: 134.3\n",
            "eps: 1000 score: 159.7\n",
            "eps: 1100 score: 144.9\n",
            "eps: 1200 score: 161.2\n",
            "eps: 1300 score: 165.4\n",
            "eps: 1400 score: 154.2\n",
            "eps: 1499 score: 168.0\n"
          ],
          "name": "stdout"
        },
        {
          "output_type": "display_data",
          "data": {
            "image/png": "[encoded data removed]",
            "text/plain": [
              "<Figure size 432x288 with 1 Axes>"
            ]
          },
          "metadata": {
            "tags": [],
            "needs_background": "light"
          }
        }
      ]
    },
    {
      "cell_type": "markdown",
      "metadata": {
        "id": "DkXkwAQq_gbP",
        "colab_type": "text"
      },
      "source": [
        "#### Batch Size 20"
      ]
    },
    {
      "cell_type": "code",
      "metadata": {
        "id": "jC-0-ioO_kKd",
        "colab_type": "code",
        "outputId": "67fa91a6-b550-494b-de36-e0ff892ecc09",
        "colab": {
          "base_uri": "https://localhost:8080/",
          "height": 537
        }
      },
      "source": [
        "policy = softmaxPolicy(cartpole_env.action_space.n,cartpole_env.observation_space.shape[0])\n",
        "pg = PG(policy,cartpole_env,1500,20,0.00025,0.99,1,True)\n",
        "pg.train()\n",
        "plt.plot(pg.eps_rec,pg.eps_rew)\n",
        "plt.show()"
      ],
      "execution_count": 0,
      "outputs": [
        {
          "output_type": "stream",
          "text": [
            "eps: 0 score: 32.6\n",
            "eps: 100 score: 38.15\n",
            "eps: 200 score: 34.5\n",
            "eps: 300 score: 43.65\n",
            "eps: 400 score: 60.05\n",
            "eps: 500 score: 47.25\n",
            "eps: 600 score: 61.35\n",
            "eps: 700 score: 58.5\n",
            "eps: 800 score: 60.8\n",
            "eps: 900 score: 83.0\n",
            "eps: 1000 score: 94.65\n",
            "eps: 1100 score: 116.8\n",
            "eps: 1200 score: 119.7\n",
            "eps: 1300 score: 155.85\n",
            "eps: 1400 score: 181.2\n",
            "eps: 1499 score: 185.9\n"
          ],
          "name": "stdout"
        },
        {
          "output_type": "display_data",
          "data": {
            "image/png": "[encoded data removed]",
            "text/plain": [
              "<Figure size 432x288 with 1 Axes>"
            ]
          },
          "metadata": {
            "tags": [],
            "needs_background": "light"
          }
        }
      ]
    },
    {
      "cell_type": "markdown",
      "metadata": {
        "id": "8wZFul9l_mTH",
        "colab_type": "text"
      },
      "source": [
        "Batch Size 30"
      ]
    },
    {
      "cell_type": "code",
      "metadata": {
        "id": "SUDIxLxU_l_6",
        "colab_type": "code",
        "outputId": "a66d9e91-382e-4896-f086-dfd2d000fd2f",
        "colab": {
          "base_uri": "https://localhost:8080/",
          "height": 541
        }
      },
      "source": [
        "policy = softmaxPolicy(cartpole_env.action_space.n,cartpole_env.observation_space.shape[0])\n",
        "pg = PG(policy,cartpole_env,1500,30,0.00025,0.99,1,True)\n",
        "pg.train()\n",
        "plt.plot(pg.eps_rec,pg.eps_rew)\n",
        "plt.show()"
      ],
      "execution_count": 0,
      "outputs": [
        {
          "output_type": "stream",
          "text": [
            "eps: 0 score: 16.566666666666666\n",
            "eps: 100 score: 24.1\n",
            "eps: 200 score: 33.233333333333334\n",
            "eps: 300 score: 40.333333333333336\n",
            "eps: 400 score: 63.8\n",
            "eps: 500 score: 58.5\n",
            "eps: 600 score: 97.83333333333333\n",
            "eps: 700 score: 119.96666666666667\n",
            "eps: 800 score: 127.33333333333333\n",
            "eps: 900 score: 152.76666666666668\n",
            "eps: 1000 score: 168.63333333333333\n",
            "eps: 1100 score: 172.2\n",
            "eps: 1200 score: 169.93333333333334\n",
            "eps: 1300 score: 176.6\n",
            "eps: 1400 score: 176.26666666666668\n",
            "eps: 1499 score: 191.4\n"
          ],
          "name": "stdout"
        },
        {
          "output_type": "display_data",
          "data": {
            "image/png": "[encoded data removed]",
            "text/plain": [
              "<Figure size 432x288 with 1 Axes>"
            ]
          },
          "metadata": {
            "tags": [],
            "needs_background": "light"
          }
        }
      ]
    },
    {
      "cell_type": "markdown",
      "metadata": {
        "id": "6ao5wHaN_yyF",
        "colab_type": "text"
      },
      "source": [
        "Batch Size 40"
      ]
    },
    {
      "cell_type": "code",
      "metadata": {
        "id": "bFLwJOy__yVJ",
        "colab_type": "code",
        "outputId": "560fd2e5-5077-4a00-89b8-6df604df9129",
        "colab": {
          "base_uri": "https://localhost:8080/",
          "height": 537
        }
      },
      "source": [
        "policy = softmaxPolicy(cartpole_env.action_space.n,cartpole_env.observation_space.shape[0])\n",
        "pg = PG(policy,cartpole_env,1500,40,0.00025,0.99,1,True)\n",
        "pg.train()\n",
        "plt.plot(pg.eps_rec,pg.eps_rew)\n",
        "plt.show()"
      ],
      "execution_count": 0,
      "outputs": [
        {
          "output_type": "stream",
          "text": [
            "eps: 0 score: 22.25\n",
            "eps: 100 score: 23.225\n",
            "eps: 200 score: 33.4\n",
            "eps: 300 score: 40.225\n",
            "eps: 400 score: 52.55\n",
            "eps: 500 score: 50.625\n",
            "eps: 600 score: 65.4\n",
            "eps: 700 score: 62.925\n",
            "eps: 800 score: 84.3\n",
            "eps: 900 score: 100.0\n",
            "eps: 1000 score: 115.55\n",
            "eps: 1100 score: 140.075\n",
            "eps: 1200 score: 163.725\n",
            "eps: 1300 score: 185.7\n",
            "eps: 1400 score: 184.975\n",
            "eps: 1499 score: 177.675\n"
          ],
          "name": "stdout"
        },
        {
          "output_type": "display_data",
          "data": {
            "image/png": "[encoded data removed]",
            "text/plain": [
              "<Figure size 432x288 with 1 Axes>"
            ]
          },
          "metadata": {
            "tags": [],
            "needs_background": "light"
          }
        }
      ]
    },
    {
      "cell_type": "markdown",
      "metadata": {
        "id": "OU5obcD8_3o1",
        "colab_type": "text"
      },
      "source": [
        "#### Batch Size 100"
      ]
    },
    {
      "cell_type": "code",
      "metadata": {
        "id": "vyH5saXW_75w",
        "colab_type": "code",
        "outputId": "fff5bae8-c636-4ade-e910-62a80fc95a5a",
        "colab": {
          "base_uri": "https://localhost:8080/",
          "height": 539
        }
      },
      "source": [
        "policy = softmaxPolicy(cartpole_env.action_space.n,cartpole_env.observation_space.shape[0])\n",
        "pg = PG(policy,cartpole_env,1500,100,0.00025,0.99,1,True)\n",
        "pg.train()\n",
        "plt.plot(pg.eps_rec,pg.eps_rew)\n",
        "plt.show()"
      ],
      "execution_count": 0,
      "outputs": [
        {
          "output_type": "stream",
          "text": [
            "eps: 0 score: 18.92\n",
            "eps: 100 score: 23.72\n",
            "eps: 200 score: 32.91\n",
            "eps: 300 score: 46.44\n",
            "eps: 400 score: 59.67\n",
            "eps: 500 score: 77.44\n",
            "eps: 600 score: 92.89\n",
            "eps: 700 score: 123.01\n",
            "eps: 800 score: 151.61\n",
            "eps: 900 score: 166.43\n",
            "eps: 1000 score: 178.63\n",
            "eps: 1100 score: 180.74\n",
            "eps: 1200 score: 188.16\n",
            "eps: 1300 score: 186.99\n",
            "eps: 1400 score: 179.49\n",
            "eps: 1499 score: 184.23\n"
          ],
          "name": "stdout"
        },
        {
          "output_type": "display_data",
          "data": {
            "image/png": "[encoded data removed]",
            "text/plain": [
              "<Figure size 432x288 with 1 Axes>"
            ]
          },
          "metadata": {
            "tags": [],
            "needs_background": "light"
          }
        }
      ]
    },
    {
      "cell_type": "markdown",
      "metadata": {
        "id": "DB2DUjC6P60M",
        "colab_type": "text"
      },
      "source": [
        "* For batch size of 10 the final average score attained in 1500 episode is less than 180. Also there is too much zig zag or dropping and gaining of values that can be seen from the graph.\n",
        "\n",
        "* For batch size of 20,30,40 the final scores reached is 185, 190 and above, They are better than the batch size of 10. Still the zig zag or dropping and gaining performance is observerd.\n",
        "\n",
        "* For batch size of 50 (the graph is shown earlier) the zig-zag pattern is less.\n",
        "* For batch size of 100 the zig-zag pattern is even lesser."
      ]
    }
  ]
}